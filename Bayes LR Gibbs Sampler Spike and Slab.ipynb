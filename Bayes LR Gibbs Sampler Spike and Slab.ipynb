{
 "cells": [
  {
   "cell_type": "code",
   "execution_count": 1,
   "id": "8267b8e2",
   "metadata": {},
   "outputs": [
    {
     "name": "stdout",
     "output_type": "stream",
     "text": [
      "cuda\n"
     ]
    }
   ],
   "source": [
    "# import necessary packages\n",
    "\n",
    "import torch\n",
    "import torch.nn as nn\n",
    "import torch.optim as optim\n",
    "\n",
    "import os\n",
    "import numpy as np\n",
    "import random\n",
    "import pandas as pd\n",
    "\n",
    "%matplotlib inline\n",
    "import seaborn as sns\n",
    "import matplotlib.pyplot as plt\n",
    "\n",
    "\n",
    "# set random seed\n",
    "\n",
    "seed = 42\n",
    "\n",
    "random.seed(seed)\n",
    "os.environ['PYTHONHASHSEED'] = str(seed)\n",
    "np.random.seed(seed)\n",
    "torch.manual_seed(seed)\n",
    "torch.cuda.manual_seed(seed)\n",
    "\n",
    "# set device\n",
    "device = 'cuda' if torch.cuda.is_available() else 'cpu'\n",
    "# make sure cuda works\n",
    "print(device)"
   ]
  },
  {
   "cell_type": "code",
   "execution_count": 2,
   "id": "263cb198",
   "metadata": {},
   "outputs": [
    {
     "name": "stdout",
     "output_type": "stream",
     "text": [
      "True betas are:  [0.         0.         0.         0.         0.         0.\n",
      " 0.         0.         1.92717275 0.         0.         0.\n",
      " 0.         3.89129656 0.         0.         1.64626791 0.\n",
      " 0.         0.        ]\n"
     ]
    }
   ],
   "source": [
    "# Consider a larger problem\n",
    "from scipy.stats import bernoulli, norm, multivariate_normal\n",
    "\n",
    "problem_size = 500\n",
    "problem_dim = 20\n",
    "noise_amp = 0.01\n",
    "\n",
    "nomial_sparsity = 3\n",
    "\n",
    "X = np.random.normal(size=(problem_size, problem_dim))\n",
    "\n",
    "# generate a sparse normal\n",
    "sparse_vector = np.zeros(20)\n",
    "random_numbers = np.random.uniform(low=1.0, high=10.0, size=nomial_sparsity)\n",
    "indices = np.random.choice(range(20), size=nomial_sparsity, replace=False)\n",
    "sparse_vector[indices] = random_numbers\n",
    "beta_true = sparse_vector\n",
    "\n",
    "\n",
    "#beta_0_true = np.ones(20)*5.0\n",
    "#sigma_0_true = np.eye(20)*2\n",
    "\n",
    "#beta_true = multivariate_normal.rvs(mean = beta_0_true, cov = sigma_0_true)\n",
    "print(\"True betas are: \", beta_true)\n",
    "\n",
    "noise = np.random.normal(loc = 0.0, scale = noise_amp, size = problem_size)\n",
    "\n",
    "y = X @ beta_true #+ noise\n",
    "#print(y.shape, X.shape, beta_true.shape, (X @ beta_true).shape, noise.shape)"
   ]
  },
  {
   "cell_type": "code",
   "execution_count": 3,
   "id": "501c1bc4",
   "metadata": {},
   "outputs": [],
   "source": [
    "def gibbs_spike_slab(y, X, num_iters, theta, tau_inv, sigma_squared):\n",
    "    \n",
    "    n, p = X.shape\n",
    "    \n",
    "    # Allocate space for trace\n",
    "    trace = np.empty((num_iters, p))\n",
    "    \n",
    "    # Compute constant values for the entire gibbs sampling\n",
    "    # Constant values for gibbs sampling\n",
    "    sigma_hat = np.zeros((p, p))  # initialize sigma with zeros\n",
    "    mu_hat = np.zeros(p)  # initialize the result with zeros\n",
    "    \n",
    "    for t in range(n):\n",
    "        row = X[t, :]\n",
    "        sigma_hat += np.outer(row, row.T)  # add the outer product of the row to sigma\n",
    "        mu_hat += row * y[t] # multiply the t-th row of X by the t-th entry of y and add to the result\n",
    "\n",
    "    # Initialize Z and beta\n",
    "    Z = np.array(bernoulli.rvs(theta, size=20))\n",
    "    beta = np.array(norm.rvs(loc = 0, scale = tau_inv, size = 20))\n",
    "\n",
    "    tau = 1/tau_inv\n",
    "\n",
    "    for i in range(num_iters):\n",
    "    \n",
    "        for i_dim in range(p):\n",
    "            \n",
    "            curr_prob = Z[i_dim]\n",
    "            hadamard_prod_Z = np.multiply(Z, beta)\n",
    "            \n",
    "            # log-sum-exp introduced by Wessel Bruinsma\n",
    "            term_1_posdraw = np.log(theta)\n",
    "            term_1_negdraw = np.log(1-theta)\n",
    "            term_2 = (1/sigma_squared)*np.dot(hadamard_prod_Z, mu_hat)\n",
    "            term_3 = (0.5/sigma_squared)*np.dot(hadamard_prod_Z, np.dot(sigma_hat,hadamard_prod_Z))\n",
    "            \n",
    "            nomial_prob_pos =  term_1_posdraw + term_2 - term_3\n",
    "            nomial_prob_neg =  term_1_negdraw + term_2 - term_3\n",
    "            \n",
    "            nomial_prob_max = max(nomial_prob_pos, nomial_prob_neg)\n",
    "            v_1 = nomial_prob_pos - nomial_prob_max\n",
    "            v_0 = nomial_prob_neg - nomial_prob_max\n",
    "            \n",
    "            new_prob = np.exp(v_1) / (np.exp(v_0) + np.exp(v_1))\n",
    "            \n",
    "            Z[i_dim] = bernoulli.rvs(new_prob)\n",
    "            \n",
    "        # now that we have updated Z, compute constant value in this draw\n",
    "        sigma_tilde = np.zeros((problem_dim, problem_dim))\n",
    "        mu_tilde = np.zeros(problem_dim)\n",
    "\n",
    "        for t in range(n):\n",
    "            row = X[t, :]\n",
    "            hadamard_prod_z = np.multiply(Z, row)\n",
    "            sigma_tilde += np.outer(hadamard_prod_z, hadamard_prod_z.T)\n",
    "            mu_tilde += hadamard_prod_z * y[t]\n",
    "        \n",
    "       \n",
    "        \n",
    "        inv_chunk = np.linalg.inv(tau*sigma_squared*np.eye(p) + sigma_tilde)\n",
    "        M_beta = np.dot(inv_chunk, mu_tilde)\n",
    "        V_beta = inv_chunk*sigma_squared\n",
    "        #print(M_beta)\n",
    "        #print(V_beta)\n",
    "        beta = multivariate_normal.rvs(M_beta, V_beta)\n",
    "        uncertainty = V_beta\n",
    "        \n",
    "        trace[i] = beta\n",
    "    \n",
    "    return trace"
   ]
  },
  {
   "cell_type": "code",
   "execution_count": 4,
   "id": "30999921",
   "metadata": {
    "scrolled": true
   },
   "outputs": [],
   "source": [
    "# Define initialization and prior for Gibbs sampling\n",
    "num_samples = 5000\n",
    "\n",
    "# Define spike and slab parameters\n",
    "theta = 0.95  # Bernoulli probability for Z\n",
    "sigma_squared = 0.01\n",
    "\n",
    "# greater tau_inv smaller trash from sampling beta\n",
    "tau_inv = 0.01\n",
    "\n",
    "result = gibbs_spike_slab(y, X, num_samples, theta, tau_inv, sigma_squared)"
   ]
  },
  {
   "cell_type": "code",
   "execution_count": 5,
   "id": "059e1a6e",
   "metadata": {
    "scrolled": true
   },
   "outputs": [
    {
     "name": "stdout",
     "output_type": "stream",
     "text": [
      "[[-3.63277254e-03 -2.83451392e-03  1.28310379e-03 ...  9.52086110e-04\n",
      "  -6.80326544e-03  1.43937985e-03]\n",
      " [ 2.99275178e-03 -7.02986331e-04  4.79943786e-04 ...  9.65355286e-02\n",
      "   2.44316988e-03  4.24700918e-03]\n",
      " [-5.85112532e-03 -5.41472249e-03  5.32446186e-03 ...  3.69304733e-03\n",
      "   1.07340778e-02  1.55040495e-02]\n",
      " ...\n",
      " [-7.46412396e-03 -8.02492873e-03  2.54975435e-03 ...  8.14020560e-03\n",
      "   2.13256573e-03 -1.28468167e-03]\n",
      " [ 1.00205218e-02  1.59134701e-01 -2.33322248e-02 ...  3.10603469e-02\n",
      "   7.39285848e-02  9.09957595e-02]\n",
      " [ 5.65588959e-03 -1.76728319e-04 -8.87841788e-05 ... -5.15725378e-03\n",
      "  -2.19855077e-03  5.15715769e-04]]\n"
     ]
    }
   ],
   "source": [
    "print(result)"
   ]
  },
  {
   "cell_type": "code",
   "execution_count": 6,
   "id": "fa21a681",
   "metadata": {},
   "outputs": [],
   "source": [
    "def threshold_vector(X, Threshold):\n",
    "   \n",
    "    X[np.abs(X) < Threshold] = 0\n",
    "    return X"
   ]
  },
  {
   "cell_type": "code",
   "execution_count": 7,
   "id": "8dd661de",
   "metadata": {},
   "outputs": [
    {
     "name": "stdout",
     "output_type": "stream",
     "text": [
      "[0.         0.         0.         0.         0.         0.\n",
      " 0.         0.         1.92574084 0.         0.         0.\n",
      " 0.         3.88016631 0.         0.         1.6415383  0.\n",
      " 0.         0.        ]\n"
     ]
    }
   ],
   "source": [
    "print(threshold_vector(result[-1], 1e-2))"
   ]
  },
  {
   "cell_type": "code",
   "execution_count": null,
   "id": "dc9b7163",
   "metadata": {},
   "outputs": [],
   "source": []
  }
 ],
 "metadata": {
  "kernelspec": {
   "display_name": "Python 3 (ipykernel)",
   "language": "python",
   "name": "python3"
  },
  "language_info": {
   "codemirror_mode": {
    "name": "ipython",
    "version": 3
   },
   "file_extension": ".py",
   "mimetype": "text/x-python",
   "name": "python",
   "nbconvert_exporter": "python",
   "pygments_lexer": "ipython3",
   "version": "3.10.12"
  }
 },
 "nbformat": 4,
 "nbformat_minor": 5
}
