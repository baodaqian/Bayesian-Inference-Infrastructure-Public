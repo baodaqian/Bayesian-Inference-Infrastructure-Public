{
 "cells": [
  {
   "cell_type": "code",
   "execution_count": 1,
   "id": "8267b8e2",
   "metadata": {},
   "outputs": [
    {
     "name": "stdout",
     "output_type": "stream",
     "text": [
      "cuda\n"
     ]
    }
   ],
   "source": [
    "# import necessary packages\n",
    "\n",
    "import torch\n",
    "import torch.nn as nn\n",
    "import torch.optim as optim\n",
    "\n",
    "import os\n",
    "import numpy as np\n",
    "import random\n",
    "import pandas as pd\n",
    "\n",
    "%matplotlib inline\n",
    "import seaborn as sns\n",
    "import matplotlib.pyplot as plt\n",
    "\n",
    "\n",
    "# set random seed\n",
    "\n",
    "seed = 42\n",
    "\n",
    "random.seed(seed)\n",
    "os.environ['PYTHONHASHSEED'] = str(seed)\n",
    "np.random.seed(seed)\n",
    "torch.manual_seed(seed)\n",
    "torch.cuda.manual_seed(seed)\n",
    "\n",
    "# set device\n",
    "device = 'cuda' if torch.cuda.is_available() else 'cpu'\n",
    "# make sure cuda works\n",
    "print(device)"
   ]
  },
  {
   "cell_type": "code",
   "execution_count": 2,
   "id": "263cb198",
   "metadata": {},
   "outputs": [
    {
     "name": "stdout",
     "output_type": "stream",
     "text": [
      "True betas are:  [4.04046355 4.56795852 4.1551756  5.1561547  6.69306612 3.90958172\n",
      " 6.41537392 3.89454875 3.8012741  6.15766761 6.30381493 6.20407548\n",
      " 3.13918146 4.34104581 6.16388163 5.05874903 3.48156902 5.64815945\n",
      " 3.98910988 7.53784138]\n",
      "(500,) (500, 20) (20,) (500,) (500,)\n"
     ]
    }
   ],
   "source": [
    "# Consider a larger problem\n",
    "from scipy.stats import invgamma,multivariate_normal\n",
    "\n",
    "problem_size = 500\n",
    "problem_dim = 20\n",
    "noise_amp = 0.01\n",
    "\n",
    "X = np.random.normal(size=(problem_size, problem_dim))\n",
    "\n",
    "# Instead of drawing beta from uniform distribution\n",
    "#beta_true = np.random.uniform(0, 10, size=problem_dim).reshape(problem_dim, 1)\n",
    "\n",
    "# Pass on the true distribution of beta as the prior\n",
    "beta_0_true = np.ones(20)*5.0\n",
    "sigma_0_true = np.eye(20)*2.0\n",
    "\n",
    "beta_true = multivariate_normal.rvs(mean = beta_0_true, cov = sigma_0_true)\n",
    "print(\"True betas are: \", beta_true)\n",
    "\n",
    "noise = np.random.normal(loc = 0.0, scale = noise_amp, size = problem_size)\n",
    "\n",
    "y = X @ beta_true + noise\n",
    "print(y.shape, X.shape, beta_true.shape, (X @ beta_true).shape, noise.shape)"
   ]
  },
  {
   "cell_type": "code",
   "execution_count": 3,
   "id": "e3931323",
   "metadata": {},
   "outputs": [
    {
     "name": "stdout",
     "output_type": "stream",
     "text": [
      "[4.04096391 4.56875965 4.15529016 5.15640066 6.69319844 3.9093258\n",
      " 6.4154151  3.89449418 3.80158741 6.15826358 6.30330249 6.20441974\n",
      " 3.13907183 4.34037614 6.16337035 5.05857585 3.48101542 5.64752632\n",
      " 3.98943725 7.53760881]\n"
     ]
    }
   ],
   "source": [
    "# for speed\n",
    "XtX = X.T @ X\n",
    "beta_ols = np.linalg.inv(XtX) @ X.T @ y\n",
    "print(beta_ols)\n",
    "\n",
    "num_samples = 5000"
   ]
  },
  {
   "cell_type": "code",
   "execution_count": 4,
   "id": "0fb15c66",
   "metadata": {},
   "outputs": [],
   "source": [
    "# Compute the sum of squared residual\n",
    "def SSR(y, X, beta):\n",
    "    residuals = y - np.dot(X, beta)\n",
    "    squared_residuals = residuals ** 2\n",
    "    SSR = np.sum(squared_residuals)\n",
    "    \n",
    "    return SSR"
   ]
  },
  {
   "cell_type": "code",
   "execution_count": 5,
   "id": "501c1bc4",
   "metadata": {},
   "outputs": [],
   "source": [
    "def gibbs_trueprior(y, X, num_iters, init, gamma_prior):\n",
    "    \n",
    "    n, p = X.shape\n",
    "    \n",
    "    # Allocate space for trace\n",
    "    trace = np.empty((num_iters, p + 1))\n",
    "    # Unpack initialization\n",
    "    beta, sigma_squared = init\n",
    "    beta_0 = beta\n",
    "    # Unpack prior hyperparameters\n",
    "    a_prior, b_prior = gamma_prior\n",
    "    \n",
    "    XtX = X.T @ X\n",
    "    \n",
    "    prior_mean = beta_0_true\n",
    "    prior_var = sigma_0_true\n",
    "    prior_precision = np.linalg.inv(prior_var)\n",
    "    \n",
    "    for i in range(num_iters):\n",
    "        # assume all X entries independent, then the inverse of the prior precision matrix is identity\n",
    "        V_beta = np.linalg.inv(XtX/sigma_squared + prior_precision)\n",
    "        M_beta = V_beta @ (prior_precision @ prior_mean + X.T @ y/sigma_squared)\n",
    "        \n",
    "        beta = multivariate_normal.rvs(M_beta, V_beta)\n",
    "        \n",
    "        SSR_i = SSR(y, X, beta)\n",
    "        sigma_squared = invgamma.rvs(a = 0.5*n+a_prior, scale = b_prior+0.5*SSR_i, size = 1)\n",
    "\n",
    "        trace[i, :] = np.append(beta, sigma_squared)\n",
    "\n",
    "    return trace"
   ]
  },
  {
   "cell_type": "code",
   "execution_count": 6,
   "id": "30999921",
   "metadata": {},
   "outputs": [
    {
     "name": "stdout",
     "output_type": "stream",
     "text": [
      "[[4.10276289e+00 4.61478405e+00 4.10783215e+00 ... 4.00370330e+00\n",
      "  7.57127147e+00 9.37568564e-02]\n",
      " [4.04668611e+00 4.59628733e+00 4.16570614e+00 ... 4.01645234e+00\n",
      "  7.52863446e+00 6.00594937e-03]\n",
      " [4.04276759e+00 4.56486573e+00 4.15219024e+00 ... 3.99060221e+00\n",
      "  7.53859489e+00 2.46700876e-03]\n",
      " ...\n",
      " [4.04004230e+00 4.56918060e+00 4.15347495e+00 ... 3.98979502e+00\n",
      "  7.53679583e+00 2.03060649e-03]\n",
      " [4.03696694e+00 4.57193826e+00 4.15627816e+00 ... 3.99097184e+00\n",
      "  7.53807015e+00 2.16477214e-03]\n",
      " [4.04124386e+00 4.56695492e+00 4.15315900e+00 ... 3.98833666e+00\n",
      "  7.53755242e+00 2.11359708e-03]]\n"
     ]
    }
   ],
   "source": [
    "init = (np.ones(X.shape[1])*5, 2)\n",
    "prior = (3,0.5)\n",
    "\n",
    "result = gibbs_trueprior(y, X, 5000, init, prior)\n",
    "\n",
    "print(result)"
   ]
  },
  {
   "cell_type": "code",
   "execution_count": null,
   "id": "059e1a6e",
   "metadata": {},
   "outputs": [],
   "source": []
  }
 ],
 "metadata": {
  "kernelspec": {
   "display_name": "Python 3 (ipykernel)",
   "language": "python",
   "name": "python3"
  },
  "language_info": {
   "codemirror_mode": {
    "name": "ipython",
    "version": 3
   },
   "file_extension": ".py",
   "mimetype": "text/x-python",
   "name": "python",
   "nbconvert_exporter": "python",
   "pygments_lexer": "ipython3",
   "version": "3.10.12"
  }
 },
 "nbformat": 4,
 "nbformat_minor": 5
}
